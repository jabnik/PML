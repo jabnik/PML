{
 "cells": [
  {
   "cell_type": "markdown",
   "metadata": {
    "id": "223eDh0eYRnK"
   },
   "source": [
    "### Q1\n",
    "Explain, with your own words, what constititutes the complete versioning cycle, mentioning concepts as *clone*, *fork*, *local & remote repositories*, *commits* and *branches*."
   ]
  },
  {
   "cell_type": "markdown",
   "metadata": {
    "id": "GQ03BFuiZkci"
   },
   "source": [
    "Versioning control systems enable users to track and make project changes from one software version to other. The version control cycle demonstrates how software's source code changes over time. Firstly, a user clone the remote repository and works on the cloned files. Once it is finished, the user commits these changes to the original files, since they are not yet existing on the remote version. Then, the user pushes the changes to upstream. An other user then can feth/download the files with the latest changes from this remote repository and merges the commit into his branch."
   ]
  },
  {
   "cell_type": "markdown",
   "metadata": {
    "id": "yBgnsJLYYR1Z"
   },
   "source": [
    "### Q2\n",
    "Exemplify, with Python data structures, how could you represent and convert textual information as vectors of numbers. Hint: use *strings*, *dictionaries* and lists. \n",
    "![](https://www.oreilly.com/library/view/applied-text-analysis/9781491963036/assets/atap_0402.png)"
   ]
  },
  {
   "cell_type": "markdown",
   "metadata": {
    "id": "ppW3ZjRSYQnI"
   },
   "source": [
    "I would turn text into feature, in this case feature is the representation of word wiht text vectorization (Word Embedding). Features will be all unique words. Single characters to be removed (in this case, there is no). We can use different methods. For example One-hot encoding where the one-hot encoded vector is represented by 1 and is at the position where the word stands. Everything is else is 0. \n",
    "Another possibiolity is Count Vectorizer, as already demonstrated above, in which we create a document term matrix (a set of variable indicating if a particular word appears in the document)."
   ]
  },
  {
   "cell_type": "code",
   "execution_count": 118,
   "metadata": {
    "id": "xcSsJ0rLabV5"
   },
   "outputs": [
    {
     "name": "stdout",
     "output_type": "stream",
     "text": [
      "   at  bat  bats  can  door  echolocation  elephant  of  opened  potatoes  \\\n",
      "0   1    0     0    0     0             0         1   1       0         1   \n",
      "1   0    0     1    1     0             1         0   0       0         0   \n",
      "2   0    1     0    0     0             0         0   0       0         0   \n",
      "3   0    0     0    0     1             0         0   0       1         0   \n",
      "\n",
      "   see  she  sight  sneeze  sneezed  studio  the  to  via  wondering  \n",
      "0    0    0      1       0        1       0    3   0    0          0  \n",
      "1    1    0      0       0        0       0    0   0    1          0  \n",
      "2    1    0      1       1        0       0    1   0    0          0  \n",
      "3    0    1      0       0        0       1    2   1    0          1  \n"
     ]
    }
   ],
   "source": [
    "import pandas as pd\n",
    "from sklearn.feature_extraction.text import CountVectorizer\n",
    "text = [\"The elephant sneezed at the sight of the potatoes\",\n",
    "\"Bats can see via echolocation\",\n",
    "\"See the bat sight sneeze\",\n",
    "\"Wondering, she opened the door to the studio\"]\n",
    "coun_vect = CountVectorizer()\n",
    "count_matrix = coun_vect.fit_transform(text)\n",
    "count_array = count_matrix.toarray()\n",
    "df = pd.DataFrame(data=count_array,columns = coun_vect.get_feature_names())\n",
    "print(df)"
   ]
  },
  {
   "cell_type": "markdown",
   "metadata": {
    "id": "t6i8sM16XKjV"
   },
   "source": [
    "### Q3\n",
    "\n",
    "Create the class *Point* representing a point object in the (x,y) Cartesian plane, with methods *show*(), *move*() and *dist*(). show() must return a tuple with the coordinates of the point. move() must take as arguments the displacements in each of the axes and update the position of the object. dist() must take another point as an argument and return the [Euclidean distance](https://en.wikipedia.org/wiki/Euclidean_distance) between the two points.\n"
   ]
  },
  {
   "cell_type": "code",
   "execution_count": 119,
   "metadata": {
    "id": "m-Lk8TpdZhlJ"
   },
   "outputs": [],
   "source": [
    "class Point(object):\n",
    "    def __init__(self, x, y):\n",
    "        self.x = x\n",
    "        self.y = y\n",
    " \n",
    "    def show(self):\n",
    "        print(\"x is now at: \", self.x, \"y is now at: \", self.y)\n",
    " \n",
    "    def dist(self, d):\n",
    "        return ((d.getX()-self.x)**2 + (d.getY()-self.y)**2)**0.5\n",
    "       \n",
    "    def move(self, m):\n",
    "        self.x = m.getX();\n",
    "        self.y = m.getY();\n",
    " \n",
    "    def getX(self):\n",
    "        return self.x\n",
    "        \n",
    "    def getY(self):\n",
    "        return self.y"
   ]
  },
  {
   "cell_type": "code",
   "execution_count": 120,
   "metadata": {},
   "outputs": [
    {
     "name": "stdin",
     "output_type": "stream",
     "text": [
      "x for P:  54\n",
      "y for P:  32\n"
     ]
    },
    {
     "name": "stdout",
     "output_type": "stream",
     "text": [
      "P is at:\n",
      "x is now at:  54 y is now at:  32\n"
     ]
    },
    {
     "name": "stdin",
     "output_type": "stream",
     "text": [
      "x for M:  88\n",
      "y for M:  65\n"
     ]
    },
    {
     "name": "stdout",
     "output_type": "stream",
     "text": [
      "M is at:\n",
      "x is now at:  88 y is now at:  65\n",
      "Moving P to M\n",
      "P's new position is:\n",
      "x is now at:  88 y is now at:  65\n"
     ]
    },
    {
     "name": "stdin",
     "output_type": "stream",
     "text": [
      "x for D:  71\n",
      "y for D:  100\n"
     ]
    },
    {
     "name": "stdout",
     "output_type": "stream",
     "text": [
      "D is at:\n",
      "x is now at:  71 y is now at:  100\n",
      "distance from P to D:\n"
     ]
    },
    {
     "data": {
      "text/plain": [
       "38.91015291668744"
      ]
     },
     "execution_count": 120,
     "metadata": {},
     "output_type": "execute_result"
    }
   ],
   "source": [
    "x = int(input('x for P: '))\n",
    "y = int(input('y for P: '))\n",
    " \n",
    "p = Point(x,y)\n",
    "print(\"P is at:\");\n",
    "p.show();\n",
    " \n",
    "to_x = int(input('x for M: '))\n",
    "to_y = int(input('y for M: '))\n",
    " \n",
    "m=Point(to_x, to_y)\n",
    "print(\"M is at:\");\n",
    "m.show();\n",
    " \n",
    "print(\"Moving P to M\");\n",
    "p.move(m)\n",
    " \n",
    "print(\"P's new position is:\")\n",
    "p.show()\n",
    " \n",
    " \n",
    "dist_x = int(input('x for D: '))\n",
    "dist_y = int(input('y for D: '))\n",
    " \n",
    "d=Point(dist_x, dist_y)\n",
    "print(\"D is at:\");\n",
    "d.show();\n",
    " \n",
    "print(\"distance from P to D:\");\n",
    "p.dist(d)"
   ]
  },
  {
   "cell_type": "markdown",
   "metadata": {
    "id": "HPiZv_baX6SI"
   },
   "source": [
    "### Q4 \n",
    "\n",
    "Import the necessary modules and create a function named *swap*() in one cell below, which receives two tuples a and b, with two elements each. Swap() must exchange the last elements of the two tuples, and then return the modified two tuples.\n",
    "\n",
    "Create, then, in another cell, a *unitary test* to check the correct functioning of the swap() function"
   ]
  },
  {
   "cell_type": "code",
   "execution_count": 122,
   "metadata": {},
   "outputs": [
    {
     "name": "stdout",
     "output_type": "stream",
     "text": [
      "((23, 20), (10, 65))\n"
     ]
    }
   ],
   "source": [
    "def swap(a, b):\n",
    "        return (a[:-1]+ (b[-1],)), (b[:-1]+ (a[-1],))\n",
    "\n",
    "print(swap((23,65), (10, 20)))"
   ]
  },
  {
   "cell_type": "code",
   "execution_count": 42,
   "metadata": {},
   "outputs": [],
   "source": [
    "import unittest\n",
    "import test\n",
    "\n",
    "class TestSwap(unittest.TestCase):\n",
    "    def test_\n"
   ]
  },
  {
   "cell_type": "code",
   "execution_count": null,
   "metadata": {},
   "outputs": [],
   "source": []
  },
  {
   "cell_type": "code",
   "execution_count": null,
   "metadata": {},
   "outputs": [],
   "source": []
  }
 ],
 "metadata": {
  "colab": {
   "name": "Final Assignment.ipynb",
   "provenance": []
  },
  "kernelspec": {
   "display_name": "Python 3 (ipykernel)",
   "language": "python",
   "name": "python3"
  },
  "language_info": {
   "codemirror_mode": {
    "name": "ipython",
    "version": 3
   },
   "file_extension": ".py",
   "mimetype": "text/x-python",
   "name": "python",
   "nbconvert_exporter": "python",
   "pygments_lexer": "ipython3",
   "version": "3.9.7"
  }
 },
 "nbformat": 4,
 "nbformat_minor": 4
}
