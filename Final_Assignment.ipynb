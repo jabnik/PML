{
 "cells": [
  {
   "cell_type": "markdown",
   "metadata": {
    "id": "223eDh0eYRnK"
   },
   "source": [
    "### Q1\n",
    "Explain, with your own words, what constititutes the complete versioning cycle, mentioning concepts as *clone*, *fork*, *local & remote repositories*, *commits* and *branches*."
   ]
  },
  {
   "cell_type": "markdown",
   "metadata": {
    "id": "GQ03BFuiZkci"
   },
   "source": [
    "#*Write your answer here*"
   ]
  },
  {
   "cell_type": "markdown",
   "metadata": {
    "id": "yBgnsJLYYR1Z"
   },
   "source": [
    "### Q2\n",
    "Exemplify, with Python data structures, how could you represent and convert textual information as vectors of numbers. Hint: use *strings*, *dictionaries* and lists. \n",
    "![](https://www.oreilly.com/library/view/applied-text-analysis/9781491963036/assets/atap_0402.png)"
   ]
  },
  {
   "cell_type": "code",
   "execution_count": null,
   "metadata": {
    "id": "ppW3ZjRSYQnI"
   },
   "outputs": [],
   "source": []
  },
  {
   "cell_type": "code",
   "execution_count": null,
   "metadata": {
    "id": "xcSsJ0rLabV5"
   },
   "outputs": [],
   "source": []
  },
  {
   "cell_type": "markdown",
   "metadata": {
    "id": "t6i8sM16XKjV"
   },
   "source": [
    "### Q3\n",
    "Create the class *Point* representing a point object in the (x,y) Cartesian plane, with methods *show*(), *move*() and *dist*(). show() must return a tuple with the coordinates of the point. move() must take as arguments the displacements in each of the axes and update the position of the object. dist() must take another point as an argument and return the [Euclidean distance](https://en.wikipedia.org/wiki/Euclidean_distance) between the two points.\n"
   ]
  },
  {
   "cell_type": "code",
   "execution_count": null,
   "metadata": {
    "id": "m-Lk8TpdZhlJ"
   },
   "outputs": [],
   "source": []
  },
  {
   "cell_type": "code",
   "execution_count": null,
   "metadata": {
    "id": "zlK5OU1Madaa"
   },
   "outputs": [],
   "source": []
  },
  {
   "cell_type": "markdown",
   "metadata": {
    "id": "HPiZv_baX6SI"
   },
   "source": [
    "### Q4\n",
    "\n",
    "Import the necessary modules and create a function named *swap*() in one cell below, which receives two tuples a and b, with two elements each. Swap() must exchange the last elements of the two tuples, and then return the modified two tuples.\n",
    "\n",
    "Create, then, in another cell, a *unitary test* to check the correct functioning of the swap() function"
   ]
  },
  {
   "cell_type": "code",
   "execution_count": null,
   "metadata": {
    "id": "em9wRa7uXMTI"
   },
   "outputs": [],
   "source": []
  },
  {
   "cell_type": "code",
   "execution_count": null,
   "metadata": {
    "id": "3ujpY32DZds0"
   },
   "outputs": [],
   "source": []
  }
 ],
 "metadata": {
  "colab": {
   "name": "Final Assignment.ipynb",
   "provenance": []
  },
  "kernelspec": {
   "display_name": "Python 3 (ipykernel)",
   "language": "python",
   "name": "python3"
  },
  "language_info": {
   "codemirror_mode": {
    "name": "ipython",
    "version": 3
   },
   "file_extension": ".py",
   "mimetype": "text/x-python",
   "name": "python",
   "nbconvert_exporter": "python",
   "pygments_lexer": "ipython3",
   "version": "3.9.7"
  }
 },
 "nbformat": 4,
 "nbformat_minor": 4
}
